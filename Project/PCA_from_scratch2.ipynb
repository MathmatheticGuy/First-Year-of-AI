{
 "cells": [
  {
   "cell_type": "markdown",
   "metadata": {},
   "source": [
    "# PCA Implementation from Scratch for 8 bit image comrpession\n",
    "8-bits image = 256 Components "
   ]
  },
  {
   "cell_type": "code",
   "execution_count": 3,
   "metadata": {},
   "outputs": [],
   "source": [
    "import numpy as np \n",
    "from PIL import Image"
   ]
  },
  {
   "cell_type": "markdown",
   "metadata": {},
   "source": [
    "\n",
    "## 1. Data Preparation\n",
    "- Load the image and preprocess it if necessary (e.g. grayscale coneversion, normalization)\n",
    "- Divide the image into smaller blocks or patches"
   ]
  },
  {
   "cell_type": "code",
   "execution_count": 4,
   "metadata": {},
   "outputs": [
    {
     "name": "stdout",
     "output_type": "stream",
     "text": [
      "(49152, 64)\n"
     ]
    }
   ],
   "source": [
    "import numpy as np\n",
    "from PIL import Image\n",
    "\n",
    "# Load the image and convert to grayscale (optional)\n",
    "img = Image.open(\"../MyDataset/MyAnime/1gawrGura.jpg\").convert('L') \n",
    "\n",
    "# Convert to a NumPy array\n",
    "img_array = np.array(img)\n",
    "\n",
    "# Normalize pixel values (optional)\n",
    "img_array = img_array / 255.0  \n",
    "\n",
    "# Define the block size\n",
    "block_size = 8\n",
    "\n",
    "# Divide the image into blocks\n",
    "blocks = []\n",
    "for i in range(0, img_array.shape[0], block_size):\n",
    "    for j in range(0, img_array.shape[1], block_size):\n",
    "        block = img_array[i:i+block_size, j:j+block_size]\n",
    "        blocks.append(block.flatten())\n",
    "\n",
    "data = np.array(blocks)\n",
    "print(data.shape)  \n",
    "\n",
    "\n"
   ]
  },
  {
   "cell_type": "markdown",
   "metadata": {},
   "source": [
    "## Step 2: Covariance Matrix Calculation\n",
    "- Create a matrix where each row represents a flattened image block\n",
    "- Calculate the covariance matrix of the image blocks"
   ]
  },
  {
   "cell_type": "code",
   "execution_count": 5,
   "metadata": {},
   "outputs": [],
   "source": [
    "# Center the data by subtracting the mean of each feature (pixel)\n",
    "data_mean = np.mean(data, axis=0)  \n",
    "centered_data = data - data_mean\n",
    "\n",
    "# Calculate the covariance matrix\n",
    "cov_matrix = np.cov(centered_data, rowvar=False) \n"
   ]
  },
  {
   "cell_type": "markdown",
   "metadata": {},
   "source": [
    "## Step 3: Eigen Decomposition\n",
    "- Calculate the eigenvectors and eigenvalues of the covariance matrix"
   ]
  },
  {
   "cell_type": "code",
   "execution_count": null,
   "metadata": {},
   "outputs": [],
   "source": [
    "# Compute the eigenvalues and eigenvectors of the covariance matrix\n",
    "eigenvalues, eigenvector = np.linalg.eig(cov_matrix)\n",
    "print(eigenvalues)"
   ]
  },
  {
   "cell_type": "markdown",
   "metadata": {},
   "source": [
    "## Step 4: Dimensionality Reduction"
   ]
  },
  {
   "cell_type": "code",
   "execution_count": null,
   "metadata": {},
   "outputs": [],
   "source": []
  },
  {
   "cell_type": "markdown",
   "metadata": {},
   "source": [
    "## Step 5: Image Projection\n",
    "- Project the orignal image blocks onto the selected eigenvectors to obtain the PCA representation\n"
   ]
  },
  {
   "cell_type": "code",
   "execution_count": null,
   "metadata": {},
   "outputs": [],
   "source": []
  },
  {
   "cell_type": "markdown",
   "metadata": {},
   "source": [
    "## Step 6: Reconstruction \n",
    "- Reconstruct the image blocks using the PCA representationto access the quality of the comrpession"
   ]
  },
  {
   "cell_type": "markdown",
   "metadata": {},
   "source": []
  }
 ],
 "metadata": {
  "kernelspec": {
   "display_name": "ai-demo",
   "language": "python",
   "name": "python3"
  },
  "language_info": {
   "codemirror_mode": {
    "name": "ipython",
    "version": 3
   },
   "file_extension": ".py",
   "mimetype": "text/x-python",
   "name": "python",
   "nbconvert_exporter": "python",
   "pygments_lexer": "ipython3",
   "version": "3.11.5"
  }
 },
 "nbformat": 4,
 "nbformat_minor": 2
}
