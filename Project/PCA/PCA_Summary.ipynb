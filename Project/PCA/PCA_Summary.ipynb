{
 "cells": [
  {
   "cell_type": "markdown",
   "metadata": {},
   "source": [
    "# PCA Implementation from Scratch for 8 bit image comrpession\n",
    "8-bits image = 256 Components "
   ]
  },
  {
   "cell_type": "code",
   "execution_count": 5,
   "metadata": {},
   "outputs": [],
   "source": [
    "import numpy as np \n",
    "from PIL import Image"
   ]
  },
  {
   "cell_type": "markdown",
   "metadata": {},
   "source": [
    "\n",
    "## 1. Data Preparation\n",
    "- Load the image and preprocess it if necessary (e.g. grayscale coneversion, normalization)\n",
    "- Divide the image into smaller blocks or patches"
   ]
  },
  {
   "cell_type": "code",
   "execution_count": 6,
   "metadata": {},
   "outputs": [
    {
     "name": "stdout",
     "output_type": "stream",
     "text": [
      "(49152, 64)\n"
     ]
    }
   ],
   "source": [
    "import numpy as np\n",
    "from PIL import Image\n",
    "\n",
    "# Load the image and convert to grayscale (optional)\n",
    "img = Image.open(\"../../MyDataset/MyAnime/1gawrGura.jpg\").convert('L') \n",
    "\n",
    "# Convert to a NumPy array\n",
    "img_array = np.array(img)\n",
    "\n",
    "# Normalize pixel values (optional)\n",
    "img_array = img_array / 255.0  \n",
    "\n",
    "# Define the block size\n",
    "block_size = 8\n",
    "\n",
    "# Divide the image into blocks\n",
    "blocks = []\n",
    "for i in range(0, img_array.shape[0], block_size):\n",
    "    for j in range(0, img_array.shape[1], block_size):\n",
    "        block = img_array[i:i+block_size, j:j+block_size]\n",
    "        blocks.append(block.flatten())\n",
    "\n",
    "data = np.array(blocks)\n",
    "print(data.shape)  \n",
    "\n",
    "\n"
   ]
  },
  {
   "cell_type": "markdown",
   "metadata": {},
   "source": [
    "## Step 2: Covariance Matrix Calculation\n",
    "- Create a matrix where each row represents a flattened image block\n",
    "- Calculate the covariance matrix of the image blocks"
   ]
  },
  {
   "cell_type": "code",
   "execution_count": 7,
   "metadata": {},
   "outputs": [],
   "source": [
    "# Center the data by subtracting the mean of each feature (pixel)\n",
    "data_mean = np.mean(data, axis=0)  \n",
    "centered_data = data - data_mean\n",
    "\n",
    "# Calculate the covariance matrix\n",
    "cov_matrix = np.cov(centered_data, rowvar=False) \n"
   ]
  },
  {
   "cell_type": "markdown",
   "metadata": {},
   "source": [
    "## Step 3: Eigen Decomposition\n",
    "- Calculate the eigenvectors and eigenvalues of the covariance matrix"
   ]
  },
  {
   "cell_type": "code",
   "execution_count": 8,
   "metadata": {},
   "outputs": [
    {
     "name": "stdout",
     "output_type": "stream",
     "text": [
      "[3.42107212e+00 1.40945706e-01 9.99159416e-02 2.41420500e-02\n",
      " 2.14239444e-02 1.55331121e-02 8.57326096e-03 7.94768680e-03\n",
      " 6.25117339e-03 5.08837310e-03 3.96508057e-03 3.57246037e-03\n",
      " 3.07465133e-03 2.82574275e-03 2.10096906e-03 2.04285362e-03\n",
      " 1.97302930e-03 1.64696543e-03 1.56971196e-03 1.44882327e-03\n",
      " 1.29327152e-03 1.19043171e-03 1.09824103e-03 1.03170392e-03\n",
      " 9.57947577e-04 8.94135260e-04 8.55540503e-04 8.21179273e-04\n",
      " 8.00642207e-04 7.69126499e-04 6.45301310e-05 8.18146090e-05\n",
      " 1.06407654e-04 6.89558410e-04 6.72633839e-04 6.63155354e-04\n",
      " 1.38624777e-04 1.48638519e-04 6.27757351e-04 1.76100377e-04\n",
      " 1.84738571e-04 5.83265599e-04 2.35084767e-04 5.57963513e-04\n",
      " 5.47584413e-04 5.31796204e-04 5.16401363e-04 2.48578989e-04\n",
      " 2.56441343e-04 2.66006173e-04 2.82833723e-04 3.00197936e-04\n",
      " 3.22498379e-04 4.82863606e-04 3.39931703e-04 3.46184952e-04\n",
      " 4.69954715e-04 3.61063959e-04 4.55087379e-04 4.36966572e-04\n",
      " 3.81585093e-04 4.00895081e-04 4.14074283e-04 4.09947506e-04]\n"
     ]
    }
   ],
   "source": [
    "# Compute the eigenvalues and eigenvectors of the covariance matrix\n",
    "eigenvalues, eigenvector = np.linalg.eig(cov_matrix)\n",
    "print(eigenvalues)"
   ]
  },
  {
   "cell_type": "markdown",
   "metadata": {},
   "source": [
    "## Step 4: Dimensionality Reduction"
   ]
  },
  {
   "cell_type": "code",
   "execution_count": null,
   "metadata": {},
   "outputs": [],
   "source": []
  },
  {
   "cell_type": "markdown",
   "metadata": {},
   "source": [
    "## Step 5: Image Projection\n",
    "- Project the orignal image blocks onto the selected eigenvectors to obtain the PCA representation\n"
   ]
  },
  {
   "cell_type": "code",
   "execution_count": null,
   "metadata": {},
   "outputs": [],
   "source": []
  },
  {
   "cell_type": "markdown",
   "metadata": {},
   "source": [
    "## Step 6: Reconstruction \n",
    "- Reconstruct the image blocks using the PCA representationto access the quality of the comrpession"
   ]
  },
  {
   "cell_type": "markdown",
   "metadata": {},
   "source": []
  }
 ],
 "metadata": {
  "kernelspec": {
   "display_name": "ai-demo",
   "language": "python",
   "name": "python3"
  },
  "language_info": {
   "codemirror_mode": {
    "name": "ipython",
    "version": 3
   },
   "file_extension": ".py",
   "mimetype": "text/x-python",
   "name": "python",
   "nbconvert_exporter": "python",
   "pygments_lexer": "ipython3",
   "version": "3.11.5"
  }
 },
 "nbformat": 4,
 "nbformat_minor": 2
}
