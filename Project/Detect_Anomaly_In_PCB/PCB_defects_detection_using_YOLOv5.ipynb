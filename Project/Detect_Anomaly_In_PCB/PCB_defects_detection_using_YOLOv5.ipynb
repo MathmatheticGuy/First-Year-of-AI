{
 "cells": [
  {
   "metadata": {},
   "cell_type": "markdown",
   "source": "# Download Dataset",
   "id": "ad5d36a336626bfc"
  },
  {
   "cell_type": "code",
   "id": "initial_id",
   "metadata": {
    "collapsed": true,
    "ExecuteTime": {
     "end_time": "2024-06-06T08:17:42.588011Z",
     "start_time": "2024-06-06T08:17:42.582701Z"
    }
   },
   "source": "# Dataset URL: https://www.kaggl.com/datasets/akhatova/pcb-defects",
   "outputs": [],
   "execution_count": 1
  },
  {
   "metadata": {},
   "cell_type": "markdown",
   "source": "# Convert XML to txt",
   "id": "95ad4353f04306f6"
  },
  {
   "metadata": {
    "ExecuteTime": {
     "end_time": "2024-06-06T08:22:46.676359Z",
     "start_time": "2024-06-06T08:22:46.578061Z"
    }
   },
   "cell_type": "code",
   "source": [
    "# https://github.com/isabek/XmLToTxt    \n",
    "!python xmltotxt.py -c classes.txt -xml xml -out out"
   ],
   "id": "cebfc5619ad8915e",
   "outputs": [
    {
     "name": "stderr",
     "output_type": "stream",
     "text": [
      "python: can't open file 'D:\\\\CMC_UNI\\\\CNTT\\\\AI\\\\ML 2024_2025\\\\Learn\\\\Anomaly Detection\\\\xmltotxt.py': [Errno 2] No such file or directory\n"
     ]
    }
   ],
   "execution_count": 2
  },
  {
   "metadata": {},
   "cell_type": "code",
   "outputs": [],
   "execution_count": null,
   "source": "",
   "id": "4c1350ecd6c675e"
  }
 ],
 "metadata": {
  "kernelspec": {
   "display_name": "Python 3",
   "language": "python",
   "name": "python3"
  },
  "language_info": {
   "codemirror_mode": {
    "name": "ipython",
    "version": 2
   },
   "file_extension": ".py",
   "mimetype": "text/x-python",
   "name": "python",
   "nbconvert_exporter": "python",
   "pygments_lexer": "ipython2",
   "version": "2.7.6"
  }
 },
 "nbformat": 4,
 "nbformat_minor": 5
}
